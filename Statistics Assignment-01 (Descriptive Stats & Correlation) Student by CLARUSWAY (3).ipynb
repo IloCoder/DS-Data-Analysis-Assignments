{
 "cells": [
  {
   "cell_type": "markdown",
   "metadata": {
    "deletable": false,
    "editable": false,
    "id": "80gh8Z2cV8O8"
   },
   "source": [
    "<a href=\"https://ondiande.com/contact/\"><img align=\"center\" src=\"https://i.ibb.co/B43qn24/officially-licensed-logo.png\" alt=\"ONDIA Contact\" width=\"110\" height=\"200\" title=\"This notebook is licensed by ONDIA. Please contact the authorized persons about the conditions under which you can use or share.\"></a>"
   ]
  },
  {
   "cell_type": "markdown",
   "metadata": {
    "id": "ABZc6u2UV8O_"
   },
   "source": [
    "<hr>\n",
    "\n",
    "<a href=\"https://lms.clarusway.com/mod/lesson/view.php?id=2463&pageid=4531&startlastseen=no\"><img align=\"center\" src=\"https://i.ibb.co/6Z5pQxD/lmss.png\" alt=\"Open in Clarusway LMS\" width=\"70\" height=\"200\" title=\"Open Clarusway Learning Management Sytem\"></a>\n",
    "\n",
    "<a href=\"https://github.com/clarusway/DS-DE-0322-Students/blob/main/3-%20Classes%26Labs/2-DAwPY/DAwPy_S01_(Numpy_Arrays).ipynb\"><img align=\"left\" src=\"https://i.ibb.co/n3HWyQX/github-logo.png\" alt=\"Open in Clarusway GitHub\" width=\"90\" height=\"150\" title=\"Open and Execute in Clarusway GitHub Repository\"></a>\n",
    "\n",
    "<a href=\"https://nbviewer.org/github/4dsolutions/clarusway_data_analysis/blob/main/DAwPy_S1_%28Numpy_Arrays%29/DAwPy_S1_%28Numpy_Arrays%29.ipynb\"><img align=\"right\" src=\"https://i.ibb.co/48wtV8c/nbviewer-badge.png\" alt=\"Open in nbviewer\" width=\"100\" height=\"100\" title=\"Open and Execute in nbviewer\"></a><br/>\n",
    "\n",
    "<hr>\n",
    "\n",
    "<p style=\"text-align: center;\"><img src=\"https://i.ibb.co/XS0bxSH/best-bootcamps.png\" width=\"300\" height=\"200\" class=\"img-fluid\" alt=\"Best Bootcamp Batches\"></p>\n",
    "\n",
    "<br>\n",
    "\n",
    "<p style=\"text-align: center;\"><img src=\"https://i.ibb.co/Rpz9L36/clarusway-logo-black.png\" width=\"500\" height=\"200\" class=\"img-fluid\" alt=\"CLRSWY_LOGO\"></p>\n",
    "\n",
    "\n",
    "<p style=\"background-color:#E51A59; font-family:newtimeroman; color:#FDFEFE; font-size:130%; text-align:center; border-radius:10px 10px;\">WAY TO REINVENT YOURSELF</p>\n",
    "\n",
    "<br>\n",
    "\n",
    "<img src=https://i.ibb.co/HgnTPh9/stats.png width=\"500\" height=\"200\">\n",
    "\n",
    "\n",
    "![Image_Assignment](https://i.ibb.co/cY9HhF7/bnote-assignment.gif)\n",
    "\n",
    "## <p style=\"background-color:#FDFEFE; font-family:newtimeroman; color:#4d77cf; font-size:175%; text-align:center; border-radius:10px 10px;\">Assignment 01 (Descriptive Statistics & Correlation)</p>"
   ]
  },
  {
   "cell_type": "markdown",
   "metadata": {
    "id": "K7S4cEyZLTp7"
   },
   "source": [
    "## <p style=\"background-color:#58B8E4; font-family:newtimeroman; color:#FFF9ED; font-size:175%; text-align:center; border-radius:10px 10px;\">Descriptive Statistics</p>"
   ]
  },
  {
   "cell_type": "markdown",
   "metadata": {
    "id": "vZRYVyc8H7hi"
   },
   "source": [
    " ### <span style=\"color:#49519E\">1. Import NumPy, SciPy, and Pandas Libraries.<span>"
   ]
  },
  {
   "cell_type": "code",
   "execution_count": 2,
   "metadata": {
    "id": "HAd1lZNGV8PC"
   },
   "outputs": [],
   "source": [
    "# YOUR CODE IS HERE\n",
    "import numpy as np\n",
    "import pandas as pd\n",
    "from scipy import stats"
   ]
  },
  {
   "cell_type": "markdown",
   "metadata": {
    "id": "_SaQURIqIA6d"
   },
   "source": [
    "### <span style=\"color:#49519E\">2. Randomly generate 1,000 samples from the normal distribution using `np.random.normal()`(mean=100, standard deviation=15).<span>\n",
    "    \n",
    "#### <span style=\"color:#49519E\">Tip: Use `random.seed()` method from Numpy library to generate the same numbers across multiple runs.<span>   "
   ]
  },
  {
   "cell_type": "code",
   "execution_count": 132,
   "metadata": {
    "id": "v_2bnojEV8PE"
   },
   "outputs": [
    {
     "data": {
      "text/plain": [
       "array([107.4507123 ,  97.92603548, 109.71532807, 122.84544785,\n",
       "        96.48769938,  96.48794565, 123.68819223, 111.51152094,\n",
       "        92.95788421, 108.13840065,  93.04873461,  93.0140537 ,\n",
       "       103.62943407,  71.30079633,  74.12623251,  91.56568706,\n",
       "        84.80753319, 104.71370999,  86.37963887,  78.81544448,\n",
       "       121.98473153,  96.61335549, 101.01292307,  78.62877721,\n",
       "        91.83425913, 101.66383885,  82.73509634, 105.63547028,\n",
       "        90.99041965,  95.62459375,  90.97440082, 127.78417277,\n",
       "        99.79754163,  84.13433607, 112.33817368,  81.68734525,\n",
       "       103.13295393,  70.60494814,  80.07720927, 102.95291854,\n",
       "       111.0769987 , 102.57052422,  98.26527576,  95.48344457,\n",
       "        77.82217014,  89.20233687,  93.09041844, 115.85683339,\n",
       "       105.15427434,  73.55439767, 104.86125954,  94.22376579,\n",
       "        89.84617   , 109.17514433, 115.46499284, 113.96920179,\n",
       "        87.41173715,  95.36181436, 104.96895147, 114.63317691,\n",
       "        92.81238643,  97.21511535,  83.40497539,  82.05690064,\n",
       "       112.18788734, 120.34360043,  98.91984818, 115.05299347,\n",
       "       105.42454038,  90.32320368, 105.42093408, 123.0705485 ,\n",
       "        99.46260941, 123.46965484,  60.70382344, 112.32853757,\n",
       "       101.30570602,  95.51488974, 101.37641165,  70.18646628,\n",
       "        96.70492168, 105.35668857, 122.16841067,  92.22594673,\n",
       "        87.87259596,  92.47364435, 113.73103177, 104.93126664,\n",
       "        92.05359694, 107.6990115 , 101.45616324, 114.52967486,\n",
       "        89.46920359,  95.0850678 ,  94.1183777 ,  78.04727578,\n",
       "       104.44180416, 103.91582908, 100.07670185,  96.481193  ,\n",
       "        78.76943887,  93.69032016,  94.85928225,  87.96584096,\n",
       "        97.58071433, 106.06076285, 128.29278852, 102.61866719,\n",
       "       103.86325586,  98.88331126,  71.21843177,  99.60229187,\n",
       "       100.90345315, 136.94863169,  97.11458553, 104.52321014,\n",
       "        99.47932345,  82.46982944, 117.14234222, 111.27899549,\n",
       "       111.86547921,  86.35918818, 121.04191466,  78.97223406,\n",
       "       108.80285641, 132.85683439,  85.14195512,  91.50553406,\n",
       "       101.49477048,  92.44786519,  76.74004853, 101.02844462,\n",
       "        84.06544429, 107.10388646,  86.20863649, 123.24901608,\n",
       "        88.25120061,  95.16907726, 112.20275826,  81.53703525,\n",
       "       103.41189902, 119.60714131,  75.88775148, 102.76950788,\n",
       "       103.89824191, 111.72734308,  81.44573934,  80.1931508 ,\n",
       "       107.82912348, 104.4547701 , 103.75739276, 105.19672314,\n",
       "        89.79962918, 103.48380546, 104.3960871 ,  89.28472873,\n",
       "       127.98661767, 107.10749381,  82.13044754, 109.84830413,\n",
       "        85.37977495, 111.80626906, 117.37893369,  87.68976522,\n",
       "       114.45064194, 106.1917139 , 112.3309024 , 128.45189474,\n",
       "        96.31917826,  88.69395753,  86.65728356,  87.76284573,\n",
       "        98.84347436, 105.11727962, 104.15036199, 112.40774874,\n",
       "       100.19502838, 121.80301116,  96.0301475 , 140.8025375 ,\n",
       "       109.38501022,  87.14263665,  83.93661253, 107.23708623,\n",
       "        96.64805822, 110.71000741, 107.09856437,  98.90756631,\n",
       "        87.29809423,  77.27729163,  93.30227572, 112.84598191,\n",
       "       103.21140616,  81.31391832, 102.59771389, 105.7797607 ,\n",
       "        86.74213846, 102.30587659, 100.87313078,  82.85544553,\n",
       "       105.36681041, 108.4117679 , 116.24576865, 115.80703078,\n",
       "        79.33495948,  85.9326244 , 107.72552901, 107.70678926,\n",
       "       107.72571529, 157.79097236, 108.56335766, 117.0334846 ,\n",
       "       114.31002645, 109.77086877,  95.27096133, 111.38453831,\n",
       "        88.40762178,  96.4477209 ,  92.71954678, 101.22811209,\n",
       "       134.7198785 ,  71.99102211, 110.29390286,  75.80926193,\n",
       "        92.92102201, 116.33425895, 100.96420029,  83.83382833,\n",
       "        89.27044436, 110.19396623,  89.04450052, 103.24687884,\n",
       "       100.6835776 ,  90.22599479, 132.15916134, 109.50878533,\n",
       "        69.6228612 , 102.79681472,  90.07320303, 112.78650002,\n",
       "        88.11218892,  98.27895338, 107.57480918, 112.98632791,\n",
       "        81.99555389,  94.98248146,  92.87582033,  90.20006151,\n",
       "       126.4818136 , 106.07472566,  81.08674068, 113.76792921,\n",
       "       131.83234296, 115.48697891,  77.20945051,  92.73648891,\n",
       "       119.00366724,  89.38495802, 106.65729142, 111.6195108 ,\n",
       "        86.09604293,  99.10711966,  51.3809899 ,  84.63418538,\n",
       "        96.21147773,  81.28325227, 124.48616956,  78.54787933,\n",
       "        93.3993327 , 101.96110866, 121.61909934,  78.46206773,\n",
       "       117.44745628, 100.15349592,  85.27737023, 106.93155211,\n",
       "       102.98589543,  90.99674684, 101.04703127,  94.22029605,\n",
       "       101.70276018, 109.93196012, 123.79025224,  81.43276752,\n",
       "       131.99550062,  70.71868301,  97.72322357, 108.8247581 ,\n",
       "       104.21487802,  90.6595072 ,  96.87816624,  92.60498598,\n",
       "        91.15952865, 112.74403146, 105.35523229,  89.60635607,\n",
       "       113.49399813, 104.60949281, 112.19293178, 109.44443263,\n",
       "        87.56507484,  91.5972844 , 111.20940408, 109.15555398,\n",
       "        99.68647609, 101.75991075, 119.16497344,  91.12642917,\n",
       "       108.20646072,  96.96711021,  96.73478195, 116.48165278,\n",
       "       112.38124523, 112.20264454, 119.58218211, 100.31505762,\n",
       "       110.22929457,  95.34599865, 104.86249529,  98.04785418,\n",
       "       101.45493947, 108.92735538,  87.72668975, 131.38580914,\n",
       "        84.90973928,  81.78717081, 117.3716631 , 111.87494041,\n",
       "       109.36179726, 109.42518264,  99.81629841,  86.54118443,\n",
       "       101.13706837,  89.84257433, 114.626796  ,  97.79413928,\n",
       "        87.61754205,  95.17921238, 106.19397181,  91.54413171,\n",
       "        87.66669407, 103.65530817, 103.67449857,  92.39585237,\n",
       "        92.93442542, 103.48074906,  78.27873488,  78.88804338,\n",
       "        89.22333668,  96.79829272, 104.66361348, 122.13034325,\n",
       "       112.86489435,  97.60092205,  99.71475688,  84.96205953,\n",
       "        99.72230296,  95.67012042, 104.84077841,  87.59153585,\n",
       "       107.79019771, 122.9910837 ,  98.36859777, 106.02567583,\n",
       "       110.35215988,  93.98169292, 103.36138723, 100.18888601,\n",
       "       101.46514148,  88.40485324, 100.36765261, 107.46997437,\n",
       "       121.76715412, 114.38906239, 132.29773686,  88.48978656,\n",
       "       113.08480955, 102.75013009, 132.847044  ,  87.87552572,\n",
       "        87.40417237,  91.00911032,  68.14156414,  92.11367467,\n",
       "        88.61301008, 102.2559068 , 105.12633964, 128.14256259,\n",
       "       114.25635757,  91.34644517,  86.52377993, 107.37878757,\n",
       "        80.19650189, 127.47188149, 117.69160181,  92.96236522,\n",
       "        74.30298206, 120.30808561,  98.28190232, 118.56724468,\n",
       "        76.08358512,  91.00937466, 100.0786555 , 100.70470891,\n",
       "        93.24901793, 109.34274899,  83.98569356,  97.86430772,\n",
       "       101.80443448, 107.71658251, 110.67422317,  83.13036862,\n",
       "        76.98828744, 119.16515233, 104.98471018,  88.77270195,\n",
       "       123.26727963, 101.73511951, 117.68945776, 101.01277722,\n",
       "       130.91121887, 126.33011264,  96.26553777, 114.57356426,\n",
       "       109.68063924, 120.52947336,  85.52614809, 110.2907719 ,\n",
       "       115.8763673 ,  73.6189077 ,  82.25112231,  69.41151733,\n",
       "        95.95889748, 110.76313384, 122.53535578, 101.11142171,\n",
       "       124.42923318,  79.29847813,  74.44926341,  99.16678452,\n",
       "       105.76098173,  99.50957878,  68.9883685 ,  98.66319941,\n",
       "        80.43295749, 110.04508823, 105.49897369,  85.90180321,\n",
       "        92.29199624,  84.11179717,  99.05981354, 114.32713481,\n",
       "        85.2141093 , 107.56069773,  92.04613572,  88.10690752,\n",
       "        98.3945446 ,  84.47136516,  91.69526042,  82.03183161,\n",
       "       129.47087699, 100.52895328,  89.50411738, 103.20969866,\n",
       "        98.31507925,  96.68545601, 109.2125005 , 111.36261565,\n",
       "        92.04248279,  91.36272639,  95.87422454,  65.47118253,\n",
       "        77.27213407, 120.50311401, 124.6745157 ,  96.26445941,\n",
       "       108.64835445, 104.66875232, 146.18321213, 116.79362367,\n",
       "        98.08123613,  85.66689339,  75.9033052 , 103.05195454,\n",
       "        88.65473882,  78.66619436,  90.30140674,  83.77677995,\n",
       "       125.30712453, 113.22459635,  99.88041038, 122.19916208,\n",
       "       101.16052461,  87.08073698, 122.84686116, 108.08365066,\n",
       "        84.44130769,  97.14491983,  86.8657262 ,  79.25800404,\n",
       "       113.89266321, 128.64124961,  79.02148639, 108.44453855,\n",
       "        90.24036146,  92.69311924,  91.11409114,  87.04013845,\n",
       "       100.72782442,  87.53574825, 104.05685239,  99.24642836,\n",
       "        96.4157793 ,  86.38654507,  91.34843004, 111.33086839,\n",
       "       107.51375781,  85.33667133, 101.48998458, 111.27080685,\n",
       "        74.95892078, 108.15040289,  90.06064362, 108.55898003,\n",
       "        88.55111265,  72.92676849,  75.58686343, 100.7212742 ,\n",
       "       103.89583753,  86.43525062, 109.57888688,  75.07719907,\n",
       "        99.00880302,  81.834757  ,  90.22245838, 100.71098007,\n",
       "        87.09379952,  94.23166684, 115.09439214,  91.34662196,\n",
       "       112.53538168,  83.05439718, 107.94706267, 121.62352931,\n",
       "        62.9253325 ,  88.04657117, 108.65608191,  96.95431921,\n",
       "       105.5671881 ,  90.9402222 , 101.29884681,  97.66484147,\n",
       "       117.51673092, 103.81631265, 105.06403993,  93.82184551,\n",
       "        92.68590664,  93.51162718, 105.91678214,  93.68523279,\n",
       "       104.34662285, 131.13101198, 113.06687055,  95.10964702,\n",
       "       118.01820883,  93.8788694 ,  69.42813197,  84.87870534,\n",
       "        71.93812118,  94.72729774, 100.27627569, 125.14655968,\n",
       "       104.90391061,  96.71349207, 112.44108372,  66.83297036,\n",
       "       103.53421837, 111.56297791,  77.82120631, 117.15631065,\n",
       "       105.07744611,  93.77068129, 109.49172799, 134.06039287,\n",
       "       102.72799383, 103.72330879,  93.10958651,  87.25233446,\n",
       "       112.45503725,  87.15874261, 101.07349356,  92.8351383 ,\n",
       "       107.18469739, 105.00493158, 115.56309916,  92.34975402,\n",
       "        95.95187597,  85.31854426,  93.3356011 , 105.6595074 ,\n",
       "       111.35482925,  86.16752014, 113.0440888 , 120.33456788,\n",
       "       106.20152355, 128.15193719,  88.39316201,  81.33017945,\n",
       "        73.31919627, 122.44066467, 109.81548485,  99.16622994,\n",
       "       104.19952939,  83.11766429, 136.68627969, 101.93831773,\n",
       "       101.64092192, 110.88649936, 107.21513848, 103.35826036,\n",
       "        88.14288317, 107.07202536, 128.23036745, 120.18130069,\n",
       "       123.8977994 ,  92.33176485,  85.1559277 ,  98.1131962 ,\n",
       "       100.83587368, 116.41287278,  74.61303055, 122.94325479,\n",
       "        97.62988152,  93.59678395,  84.81843437,  75.17714992,\n",
       "       112.34755876, 101.09976951,  80.6505865 ,  80.57381842,\n",
       "        94.96322951, 125.03532288,  96.10612973,  77.4528557 ,\n",
       "        96.31385404,  95.90914645,  59.54670036,  99.185577  ,\n",
       "        96.53598205, 110.44309547, 127.73434142, 116.89847544,\n",
       "        95.96666964,  83.40211137, 138.60039705, 100.88827651,\n",
       "       100.20893938,  99.63812369, 102.97127141,  97.83459382,\n",
       "        91.3950699 ,  91.79711588,  99.50870095,  91.84862843,\n",
       "        89.30731326, 101.59645342,  96.17534174, 122.55989483,\n",
       "        60.23545287, 116.37260278, 118.69127789,  68.89914651,\n",
       "        94.85968609,  94.42838701,  78.88732458,  88.33274969,\n",
       "        83.34136232, 126.28405665, 114.0351759 , 119.07332642,\n",
       "       110.82508096,  83.06422343,  92.13219601, 107.34061842,\n",
       "        81.66808287, 110.69497645,  96.39511903,  94.37768789,\n",
       "       110.66439952, 106.66394967,  94.58550751, 117.38994705,\n",
       "        83.78405009, 109.2390341 , 108.89651887,  95.35680341,\n",
       "       104.89199533,  81.23329635, 113.86040529,  97.22646795,\n",
       "        92.15915469, 115.73513839,  89.43484464,  78.87308055,\n",
       "        76.6505624 , 109.09014927,  80.79355971, 126.32191273,\n",
       "        68.77105888, 125.44684552, 103.16526201,  98.54930332,\n",
       "        91.8262137 , 105.98704172,  99.43547946, 116.54952823,\n",
       "       101.71341473, 102.25452642,  94.54581682,  99.14581564,\n",
       "       104.61702653,  74.34747411,  79.77721867, 111.14896141,\n",
       "       102.56298157,  97.24024995, 100.276509  , 105.21372558,\n",
       "        91.9036048 ,  88.32542912, 102.93767883,  85.32440834,\n",
       "       106.12379134,  74.46124594, 115.43733456, 107.08896224,\n",
       "       103.84044601, 114.74036476, 124.98211667, 115.21555098,\n",
       "        72.38688653,  80.8063455 ,  90.62772133, 100.39136575,\n",
       "       107.76488531,  89.1138428 , 102.80150147,  88.66925601,\n",
       "        90.82723296,  78.90008355,  86.15150131,  79.72473092,\n",
       "        85.36190121, 115.80462695,  85.75901667, 139.48573097,\n",
       "       107.39976851, 102.77254186,  87.1246333 , 110.50464819,\n",
       "        91.36543261, 101.83014722, 138.40126807,  98.5591015 ,\n",
       "       117.23909989,  89.45235362,  99.47517264, 126.56200953,\n",
       "        90.59549413, 127.18672837, 110.61627903,  91.56299836,\n",
       "       109.48611609, 114.58831674, 109.32714943,  76.4466292 ,\n",
       "        89.09294236,  96.28722047,  98.88349856, 109.31008146,\n",
       "       102.66551501,  79.96983462, 105.70296777, 109.15878618,\n",
       "       108.39685672, 116.21171088, 112.50883232, 106.88770119,\n",
       "        98.94751433,  75.085586  , 106.44427329, 103.11531531,\n",
       "       104.07368256,  80.84877136,  83.78415189, 115.7972928 ,\n",
       "        99.40667269, 110.22251046, 100.42477564, 100.44634209,\n",
       "       114.07425709,  92.25932908, 101.44181165,  93.06587067,\n",
       "        93.48255659,  95.36241815, 103.33200657,  92.81877068,\n",
       "       118.83634188,  86.58089047,  97.19692534,  93.40403413,\n",
       "       121.70466827, 102.94832165, 115.47766809,  77.7165944 ,\n",
       "       104.00575399, 113.34446193, 101.23425984, 115.98220563,\n",
       "        92.24067325, 121.1402116 , 134.48347185,  94.55742159,\n",
       "        93.31746218, 121.80076716, 123.69358219,  92.15709959,\n",
       "        93.69719774,  95.77323087,  79.83324233,  86.2202208 ,\n",
       "        84.9378885 ,  88.48303652,  99.47972669, 103.51322099,\n",
       "       123.25750739,  85.02468939, 114.76483598,  96.79016734,\n",
       "        99.25804436, 110.12229238,  83.15916968, 105.73614619,\n",
       "       102.49678312, 107.38676896, 104.33752966, 136.8295021 ,\n",
       "        90.43390024,  92.03504567,  90.6528921 ,  91.66784321,\n",
       "        90.43919309, 117.83524797, 121.30756372,  91.43880559,\n",
       "        87.5146664 , 107.07123335,  91.71665434, 109.49397727,\n",
       "       103.04384531,  77.26383828, 123.21257802, 126.9381651 ,\n",
       "        90.80816964,  94.1844766 , 104.28798086, 105.01685185,\n",
       "       109.87816409, 130.15306808,  97.34579159,  88.02554133,\n",
       "        79.31021158,  89.0360494 ,  99.50309541, 126.91836795,\n",
       "        92.23583051, 103.35681927,  99.75365656, 117.8258991 ,\n",
       "       137.90398639,  92.03696841,  92.65840836, 115.66241316,\n",
       "       110.22837234, 127.70060989, 108.75892278,  94.61061864,\n",
       "       108.85982246, 116.63055371, 112.30723272, 107.60911047,\n",
       "       116.00012034, 117.53943386, 120.73238487, 109.73064831,\n",
       "        97.4932288 , 102.2007053 , 118.0976345 ,  87.74596494,\n",
       "       105.53009963,  94.09991782, 100.43117234, 119.17677794,\n",
       "       102.86648602, 100.69654822,  79.60215789, 111.19380349,\n",
       "       109.68226272, 132.44882085,  95.38332648, 103.28725491,\n",
       "       103.74075526, 123.6617992 ,  98.57056701, 104.18532289,\n",
       "       109.11844765, 102.79913685,  93.30349578, 102.91134989,\n",
       "       116.10447625,  84.60227051, 101.99454511,  89.49818778,\n",
       "       117.92569943,  77.15219643,  91.61617229, 105.65817813,\n",
       "       123.48286044,  99.01374608,  91.6720071 , 128.21735604,\n",
       "        78.27979149,  67.01791065, 106.60021675,  92.46918663,\n",
       "        84.68150774, 110.62534671, 103.65701071,  91.53882054,\n",
       "        80.79543402, 113.08685992, 109.75301767,  98.51236204,\n",
       "       127.69955494,  83.94872851,  77.11712244,  89.62137895,\n",
       "        99.31620975, 103.65009174,  96.38145913, 105.28083095,\n",
       "        81.22690864, 121.65646906,  98.76773232, 116.75943747,\n",
       "       105.1408802 , 106.85129829, 108.5465092 , 106.7156284 ,\n",
       "       109.6408414 , 119.93728795, 102.94781755, 110.63505636,\n",
       "        98.65396459, 121.60175823,  89.85411547, 127.01410649,\n",
       "        99.39763074,  78.53837347, 101.92156622,  89.78422514,\n",
       "       112.60965323,  90.21064031,  93.3072485 ,  71.65688904,\n",
       "        93.21540521,  63.6418101 ,  76.24145765, 111.40621984,\n",
       "       111.78700238, 106.38186343,  85.49535785,  99.28432966,\n",
       "        99.94596191,  82.62452966, 122.55097453, 113.16043436,\n",
       "        96.68553739, 100.40328758, 103.12574212,  69.37397697,\n",
       "        96.29233926,  89.77023628,  84.97569985,  95.78349561,\n",
       "       126.9652979 , 109.61264292,  91.43231515, 108.58874172])"
      ]
     },
     "metadata": {},
     "output_type": "display_data"
    }
   ],
   "source": [
    "# YOUR CODE IS HERE\n",
    "np.random.seed(42) #Setting the seed for reproducibility\n",
    "samples = np.random.normal(loc = 100, scale = 15, size = 1000)\n",
    "# alternative if you know positioning -> sapmles = np.random.normal(100, 15, 1000)\n",
    "display(samples)\n",
    "\n"
   ]
  },
  {
   "cell_type": "markdown",
   "metadata": {
    "id": "CDF8m3a4IYOC"
   },
   "source": [
    "  ### <span style=\"color:#49519E\">3. Calculate the mean, median, and mode.<span>"
   ]
  },
  {
   "cell_type": "code",
   "execution_count": 135,
   "metadata": {
    "id": "UcF8-bY_V8PE"
   },
   "outputs": [
    {
     "name": "stdout",
     "output_type": "stream",
     "text": [
      "The mean of samples is: 100.28998083733488\n",
      "The median of samples is: 100.37950918352333\n",
      "THe mode of samples is: ModeResult(mode=51.38098989896391, count=1)\n"
     ]
    }
   ],
   "source": [
    "# YOUR CODE IS HERE\n",
    "print(\"The mean of samples is:\", np.mean(samples))\n",
    "print(\"The median of samples is:\", np.median(samples))\n",
    "print(\"THe mode of samples is:\", stats.mode(samples))\n"
   ]
  },
  {
   "cell_type": "markdown",
   "metadata": {
    "id": "skT8m39XI60w"
   },
   "source": [
    "  ### <span style=\"color:#49519E\">4. Calculate the min, max, Q1, Q3, and interquartile range.<span>"
   ]
  },
  {
   "cell_type": "code",
   "execution_count": 138,
   "metadata": {
    "id": "kYpqd0W-V8PF"
   },
   "outputs": [
    {
     "name": "stdout",
     "output_type": "stream",
     "text": [
      "The mininum value of samples is: 51.38098989896391\n",
      "The maximum value of samples is: 157.7909723598208\n",
      "The first quartile (Q1) of samples is: 90.28614541806472\n",
      "The second 9,quartile (Q2) of samples is: 109.71915813209395\n",
      "The interquartile (IQR) of samples is: 19.433012714029232\n"
     ]
    }
   ],
   "source": [
    "# YOUR CODE IS HERE\n",
    "print(\"The mininum value of samples is:\", np.min(samples))\n",
    "print(\"The maximum value of samples is:\", np.max(samples))\n",
    "print(\"The first quartile (Q1) of samples is:\", np.percentile(samples, 25)) # or np.quantile(samples, 0.25))\n",
    "print(\"The second 9,quartile (Q2) of samples is:\", np.percentile(samples, 75)) # or np.quantile(samples, 0.75))\n",
    "print(\"The interquartile (IQR) of samples is:\", np.percentile(samples, 75) - np.percentile(samples, 25)) \n",
    "# or we can calculate iqr also:\n",
    "# from scipy.stats import iqr\n",
    "# iqr(samples)                      "
   ]
  },
  {
   "cell_type": "markdown",
   "metadata": {
    "id": "m53Dv3n5JHQi"
   },
   "source": [
    "  ### <span style=\"color:#49519E\">5. Calculate the variance and standard deviation.<span>"
   ]
  },
  {
   "cell_type": "code",
   "execution_count": 141,
   "metadata": {
    "id": "PJNWGb1ZV8PF"
   },
   "outputs": [
    {
     "name": "stdout",
     "output_type": "stream",
     "text": [
      "The variance of samples is: 215.52862268959137\n",
      "The standard deviation of samples is: 14.680893116210314\n"
     ]
    }
   ],
   "source": [
    "# YOUR CODE IS HERE\n",
    "print(\"The variance of samples is:\", np.var(samples))\n",
    "print(\"The standard deviation of samples is:\", np.std(samples))\n"
   ]
  },
  {
   "cell_type": "markdown",
   "metadata": {
    "id": "5eup4hI1JzqX"
   },
   "source": [
    "  ### <span style=\"color:#49519E\">6. Calculate the skewness and kurtosis.<span>"
   ]
  },
  {
   "cell_type": "code",
   "execution_count": 148,
   "metadata": {
    "id": "1oM_Dxg4V8PG"
   },
   "outputs": [
    {
     "name": "stdout",
     "output_type": "stream",
     "text": [
      "The Skewness of the samples is: 0.11680083110533536\n",
      "The Kurtosis of samples is: 0.06620589292148438\n"
     ]
    }
   ],
   "source": [
    "# YOUR CODE IS HERE#\n",
    "print(\"The Skewness of the samples is:\", stats.skew(samples))\n",
    "print(\"The Kurtosis of samples is:\", stats.kurtosis(samples))"
   ]
  },
  {
   "cell_type": "markdown",
   "metadata": {
    "id": "a5UNc8PUKnbU"
   },
   "source": [
    "## <p style=\"background-color:#58B8E4; font-family:newtimeroman; color:#FFF9ED; font-size:175%; text-align:center; border-radius:10px 10px;\">Correlation Calculation in NumPy</p>"
   ]
  },
  {
   "cell_type": "markdown",
   "metadata": {
    "id": "cLiqxE1CMNTg"
   },
   "source": [
    "### <span style=\"color:#49519E\">7. Create an array `x` of integers between 10 (inclusive) and 20 (exclusive). Use `np.arange()`.<span>"
   ]
  },
  {
   "cell_type": "code",
   "execution_count": 152,
   "metadata": {
    "id": "-Z6R-HLSV8PG"
   },
   "outputs": [
    {
     "name": "stdout",
     "output_type": "stream",
     "text": [
      "x: [10 11 12 13 14 15 16 17 18 19]\n"
     ]
    }
   ],
   "source": [
    "# YOUR CODE IS HERE\n",
    "x = np.arange(10,20)\n",
    "print(f\"x: {x}\")\n"
   ]
  },
  {
   "cell_type": "markdown",
   "metadata": {
    "id": "qyCIaukNMZPf"
   },
   "source": [
    "### <span style=\"color:#49519E\">8. Then use `np.array()` to create a second array `y` containing 10 arbitrary integers.<span>"
   ]
  },
  {
   "cell_type": "code",
   "execution_count": 160,
   "metadata": {
    "id": "ddpswSvqV8PH"
   },
   "outputs": [
    {
     "name": "stdout",
     "output_type": "stream",
     "text": [
      "y: [ 4  7  9 20 25 29 26 28 21 31]\n"
     ]
    }
   ],
   "source": [
    "# YOUR CODE IS HERE\n",
    "y = np.array([4,7,9,20,25,29,26,28,21,31])\n",
    "print(f\"y: {y}\")"
   ]
  },
  {
   "cell_type": "markdown",
   "metadata": {
    "id": "Kh_VeKwINSqS"
   },
   "source": [
    "### <span style=\"color:#49519E\">9. Calculate the correlation coefficient between `x` and `y`.<span>"
   ]
  },
  {
   "cell_type": "code",
   "execution_count": 167,
   "metadata": {
    "id": "tmNOTfQ6V8PH"
   },
   "outputs": [
    {
     "data": {
      "text/plain": [
       "array([[1.      , 0.852811],\n",
       "       [0.852811, 1.      ]])"
      ]
     },
     "execution_count": 167,
     "metadata": {},
     "output_type": "execute_result"
    }
   ],
   "source": [
    "# YOUR CODE IS HERE\n",
    "corr_coef = np.corrcoef(x, y)\n",
    "corr_coef\n"
   ]
  },
  {
   "cell_type": "markdown",
   "metadata": {
    "id": "vXieLjYiNtPi"
   },
   "source": [
    "## <p style=\"background-color:#58B8E4; font-family:newtimeroman; color:#FFF9ED; font-size:175%; text-align:center; border-radius:10px 10px;\">Correlation Calculation in Pandas</p>"
   ]
  },
  {
   "cell_type": "markdown",
   "metadata": {
    "id": "z56t0k0qNvkr"
   },
   "source": [
    "### <span style=\"color:#49519E\">10. Run the code below.<span>"
   ]
  },
  {
   "cell_type": "code",
   "execution_count": 5,
   "metadata": {
    "id": "9AVBMJCyNuwb"
   },
   "outputs": [],
   "source": [
    "x = pd.Series(range(10, 20))\n",
    "y = pd.Series([2, 1, 4, 5, 8, 12, 18, 25, 96, 48])"
   ]
  },
  {
   "cell_type": "markdown",
   "metadata": {
    "id": "ZajVXYe2OCih"
   },
   "source": [
    "### <span style=\"color:#49519E\">11. Calculate the `Pearson's r` correlation.<span>"
   ]
  },
  {
   "cell_type": "code",
   "execution_count": 8,
   "metadata": {
    "id": "5LLoMqxHV8PI"
   },
   "outputs": [
    {
     "name": "stdout",
     "output_type": "stream",
     "text": [
      "Pearson's r: 0.7586402890911869\n"
     ]
    }
   ],
   "source": [
    "# YOUR CODE IS HERE\n",
    "from scipy.stats import pearsonr\n",
    "print(\"Pearson's r:\", pearsonr(x, y)[0])\n"
   ]
  },
  {
   "cell_type": "code",
   "execution_count": 12,
   "metadata": {},
   "outputs": [
    {
     "name": "stdout",
     "output_type": "stream",
     "text": [
      "Pearson's r = 0.7586402890911867\n"
     ]
    }
   ],
   "source": [
    "# other solution\n",
    "r = x.corr(y)\n",
    "print(\"Pearson's r =\", r)"
   ]
  },
  {
   "cell_type": "markdown",
   "metadata": {
    "id": "1CygSbnROb9V"
   },
   "source": [
    "### <span style=\"color:#49519E\">12. OPTIONAL. Calculate the relevant method to calculate `Spearman's rho` correlation.<span>"
   ]
  },
  {
   "cell_type": "code",
   "execution_count": 177,
   "metadata": {
    "id": "N3LM48XiV8PI"
   },
   "outputs": [
    {
     "name": "stdout",
     "output_type": "stream",
     "text": [
      "0.9757575757575757\n"
     ]
    }
   ],
   "source": [
    "# YOUR CODE IS HERE\n",
    "spearman_rho = x.corr(y, method=\"spearman\")\n",
    "print(spearman_rho)\n",
    "\n"
   ]
  },
  {
   "cell_type": "markdown",
   "metadata": {
    "id": "we7pg7kdOo7y"
   },
   "source": [
    "## <p style=\"background-color:#58B8E4; font-family:newtimeroman; color:#FFF9ED; font-size:175%; text-align:center; border-radius:10px 10px;\">Study wit Seaborn Dataset-Tips</p>"
   ]
  },
  {
   "cell_type": "markdown",
   "metadata": {
    "id": "VlzgFKN7OvqX"
   },
   "source": [
    "### <span style=\"color:#49519E\">13. Import Seaborn Library as `sns`.<span>"
   ]
  },
  {
   "cell_type": "code",
   "execution_count": 181,
   "metadata": {
    "id": "wasaVyngV8PJ"
   },
   "outputs": [],
   "source": [
    "# YOUR CODE IS HERE\n",
    "import seaborn as sns\n",
    "import matplotlib.pyplot as plt\n"
   ]
  },
  {
   "cell_type": "markdown",
   "metadata": {
    "id": "0INVBB4tO4y4"
   },
   "source": [
    "### <span style=\"color:#49519E\">14. Load `tips` dataset from Seaborn Library.<span>"
   ]
  },
  {
   "cell_type": "code",
   "execution_count": 184,
   "metadata": {
    "id": "ovWS6zyFV8PJ"
   },
   "outputs": [
    {
     "data": {
      "text/html": [
       "<div>\n",
       "<style scoped>\n",
       "    .dataframe tbody tr th:only-of-type {\n",
       "        vertical-align: middle;\n",
       "    }\n",
       "\n",
       "    .dataframe tbody tr th {\n",
       "        vertical-align: top;\n",
       "    }\n",
       "\n",
       "    .dataframe thead th {\n",
       "        text-align: right;\n",
       "    }\n",
       "</style>\n",
       "<table border=\"1\" class=\"dataframe\">\n",
       "  <thead>\n",
       "    <tr style=\"text-align: right;\">\n",
       "      <th></th>\n",
       "      <th>total_bill</th>\n",
       "      <th>tip</th>\n",
       "      <th>sex</th>\n",
       "      <th>smoker</th>\n",
       "      <th>day</th>\n",
       "      <th>time</th>\n",
       "      <th>size</th>\n",
       "    </tr>\n",
       "  </thead>\n",
       "  <tbody>\n",
       "    <tr>\n",
       "      <th>0</th>\n",
       "      <td>16.99</td>\n",
       "      <td>1.01</td>\n",
       "      <td>Female</td>\n",
       "      <td>No</td>\n",
       "      <td>Sun</td>\n",
       "      <td>Dinner</td>\n",
       "      <td>2</td>\n",
       "    </tr>\n",
       "    <tr>\n",
       "      <th>1</th>\n",
       "      <td>10.34</td>\n",
       "      <td>1.66</td>\n",
       "      <td>Male</td>\n",
       "      <td>No</td>\n",
       "      <td>Sun</td>\n",
       "      <td>Dinner</td>\n",
       "      <td>3</td>\n",
       "    </tr>\n",
       "    <tr>\n",
       "      <th>2</th>\n",
       "      <td>21.01</td>\n",
       "      <td>3.50</td>\n",
       "      <td>Male</td>\n",
       "      <td>No</td>\n",
       "      <td>Sun</td>\n",
       "      <td>Dinner</td>\n",
       "      <td>3</td>\n",
       "    </tr>\n",
       "    <tr>\n",
       "      <th>3</th>\n",
       "      <td>23.68</td>\n",
       "      <td>3.31</td>\n",
       "      <td>Male</td>\n",
       "      <td>No</td>\n",
       "      <td>Sun</td>\n",
       "      <td>Dinner</td>\n",
       "      <td>2</td>\n",
       "    </tr>\n",
       "    <tr>\n",
       "      <th>4</th>\n",
       "      <td>24.59</td>\n",
       "      <td>3.61</td>\n",
       "      <td>Female</td>\n",
       "      <td>No</td>\n",
       "      <td>Sun</td>\n",
       "      <td>Dinner</td>\n",
       "      <td>4</td>\n",
       "    </tr>\n",
       "    <tr>\n",
       "      <th>...</th>\n",
       "      <td>...</td>\n",
       "      <td>...</td>\n",
       "      <td>...</td>\n",
       "      <td>...</td>\n",
       "      <td>...</td>\n",
       "      <td>...</td>\n",
       "      <td>...</td>\n",
       "    </tr>\n",
       "    <tr>\n",
       "      <th>239</th>\n",
       "      <td>29.03</td>\n",
       "      <td>5.92</td>\n",
       "      <td>Male</td>\n",
       "      <td>No</td>\n",
       "      <td>Sat</td>\n",
       "      <td>Dinner</td>\n",
       "      <td>3</td>\n",
       "    </tr>\n",
       "    <tr>\n",
       "      <th>240</th>\n",
       "      <td>27.18</td>\n",
       "      <td>2.00</td>\n",
       "      <td>Female</td>\n",
       "      <td>Yes</td>\n",
       "      <td>Sat</td>\n",
       "      <td>Dinner</td>\n",
       "      <td>2</td>\n",
       "    </tr>\n",
       "    <tr>\n",
       "      <th>241</th>\n",
       "      <td>22.67</td>\n",
       "      <td>2.00</td>\n",
       "      <td>Male</td>\n",
       "      <td>Yes</td>\n",
       "      <td>Sat</td>\n",
       "      <td>Dinner</td>\n",
       "      <td>2</td>\n",
       "    </tr>\n",
       "    <tr>\n",
       "      <th>242</th>\n",
       "      <td>17.82</td>\n",
       "      <td>1.75</td>\n",
       "      <td>Male</td>\n",
       "      <td>No</td>\n",
       "      <td>Sat</td>\n",
       "      <td>Dinner</td>\n",
       "      <td>2</td>\n",
       "    </tr>\n",
       "    <tr>\n",
       "      <th>243</th>\n",
       "      <td>18.78</td>\n",
       "      <td>3.00</td>\n",
       "      <td>Female</td>\n",
       "      <td>No</td>\n",
       "      <td>Thur</td>\n",
       "      <td>Dinner</td>\n",
       "      <td>2</td>\n",
       "    </tr>\n",
       "  </tbody>\n",
       "</table>\n",
       "<p>244 rows × 7 columns</p>\n",
       "</div>"
      ],
      "text/plain": [
       "     total_bill   tip     sex smoker   day    time  size\n",
       "0         16.99  1.01  Female     No   Sun  Dinner     2\n",
       "1         10.34  1.66    Male     No   Sun  Dinner     3\n",
       "2         21.01  3.50    Male     No   Sun  Dinner     3\n",
       "3         23.68  3.31    Male     No   Sun  Dinner     2\n",
       "4         24.59  3.61  Female     No   Sun  Dinner     4\n",
       "..          ...   ...     ...    ...   ...     ...   ...\n",
       "239       29.03  5.92    Male     No   Sat  Dinner     3\n",
       "240       27.18  2.00  Female    Yes   Sat  Dinner     2\n",
       "241       22.67  2.00    Male    Yes   Sat  Dinner     2\n",
       "242       17.82  1.75    Male     No   Sat  Dinner     2\n",
       "243       18.78  3.00  Female     No  Thur  Dinner     2\n",
       "\n",
       "[244 rows x 7 columns]"
      ]
     },
     "execution_count": 184,
     "metadata": {},
     "output_type": "execute_result"
    }
   ],
   "source": [
    "# YOUR CODE IS HERE\n",
    "tips = sns.load_dataset(\"tips\")\n",
    "tips"
   ]
  },
  {
   "cell_type": "markdown",
   "metadata": {
    "id": "o2ISqVQrPh5S"
   },
   "source": [
    "### <span style=\"color:#49519E\">15. Generate Descriptive Statistics including those that summarize the central tendency, dispersion.<span>"
   ]
  },
  {
   "cell_type": "code",
   "execution_count": 187,
   "metadata": {
    "id": "iSqxD_K_V8PK"
   },
   "outputs": [
    {
     "data": {
      "text/html": [
       "<div>\n",
       "<style scoped>\n",
       "    .dataframe tbody tr th:only-of-type {\n",
       "        vertical-align: middle;\n",
       "    }\n",
       "\n",
       "    .dataframe tbody tr th {\n",
       "        vertical-align: top;\n",
       "    }\n",
       "\n",
       "    .dataframe thead th {\n",
       "        text-align: right;\n",
       "    }\n",
       "</style>\n",
       "<table border=\"1\" class=\"dataframe\">\n",
       "  <thead>\n",
       "    <tr style=\"text-align: right;\">\n",
       "      <th></th>\n",
       "      <th>total_bill</th>\n",
       "      <th>tip</th>\n",
       "      <th>size</th>\n",
       "    </tr>\n",
       "  </thead>\n",
       "  <tbody>\n",
       "    <tr>\n",
       "      <th>count</th>\n",
       "      <td>244.000000</td>\n",
       "      <td>244.000000</td>\n",
       "      <td>244.000000</td>\n",
       "    </tr>\n",
       "    <tr>\n",
       "      <th>mean</th>\n",
       "      <td>19.785943</td>\n",
       "      <td>2.998279</td>\n",
       "      <td>2.569672</td>\n",
       "    </tr>\n",
       "    <tr>\n",
       "      <th>std</th>\n",
       "      <td>8.902412</td>\n",
       "      <td>1.383638</td>\n",
       "      <td>0.951100</td>\n",
       "    </tr>\n",
       "    <tr>\n",
       "      <th>min</th>\n",
       "      <td>3.070000</td>\n",
       "      <td>1.000000</td>\n",
       "      <td>1.000000</td>\n",
       "    </tr>\n",
       "    <tr>\n",
       "      <th>25%</th>\n",
       "      <td>13.347500</td>\n",
       "      <td>2.000000</td>\n",
       "      <td>2.000000</td>\n",
       "    </tr>\n",
       "    <tr>\n",
       "      <th>50%</th>\n",
       "      <td>17.795000</td>\n",
       "      <td>2.900000</td>\n",
       "      <td>2.000000</td>\n",
       "    </tr>\n",
       "    <tr>\n",
       "      <th>75%</th>\n",
       "      <td>24.127500</td>\n",
       "      <td>3.562500</td>\n",
       "      <td>3.000000</td>\n",
       "    </tr>\n",
       "    <tr>\n",
       "      <th>max</th>\n",
       "      <td>50.810000</td>\n",
       "      <td>10.000000</td>\n",
       "      <td>6.000000</td>\n",
       "    </tr>\n",
       "  </tbody>\n",
       "</table>\n",
       "</div>"
      ],
      "text/plain": [
       "       total_bill         tip        size\n",
       "count  244.000000  244.000000  244.000000\n",
       "mean    19.785943    2.998279    2.569672\n",
       "std      8.902412    1.383638    0.951100\n",
       "min      3.070000    1.000000    1.000000\n",
       "25%     13.347500    2.000000    2.000000\n",
       "50%     17.795000    2.900000    2.000000\n",
       "75%     24.127500    3.562500    3.000000\n",
       "max     50.810000   10.000000    6.000000"
      ]
     },
     "execution_count": 187,
     "metadata": {},
     "output_type": "execute_result"
    }
   ],
   "source": [
    "# YOUR CODE IS HERE\n",
    "tips.describe()\n"
   ]
  },
  {
   "cell_type": "markdown",
   "metadata": {
    "id": "3yCRK4VJPzRo"
   },
   "source": [
    "### <span style=\"color:#49519E\">16. Calculate `Pairwise Pearson's r` correlation of columns.<span>"
   ]
  },
  {
   "cell_type": "code",
   "execution_count": 192,
   "metadata": {
    "id": "YKAoR2QRV8PK"
   },
   "outputs": [
    {
     "data": {
      "text/html": [
       "<div>\n",
       "<style scoped>\n",
       "    .dataframe tbody tr th:only-of-type {\n",
       "        vertical-align: middle;\n",
       "    }\n",
       "\n",
       "    .dataframe tbody tr th {\n",
       "        vertical-align: top;\n",
       "    }\n",
       "\n",
       "    .dataframe thead th {\n",
       "        text-align: right;\n",
       "    }\n",
       "</style>\n",
       "<table border=\"1\" class=\"dataframe\">\n",
       "  <thead>\n",
       "    <tr style=\"text-align: right;\">\n",
       "      <th></th>\n",
       "      <th>total_bill</th>\n",
       "      <th>tip</th>\n",
       "      <th>size</th>\n",
       "    </tr>\n",
       "  </thead>\n",
       "  <tbody>\n",
       "    <tr>\n",
       "      <th>total_bill</th>\n",
       "      <td>1.000000</td>\n",
       "      <td>0.675734</td>\n",
       "      <td>0.598315</td>\n",
       "    </tr>\n",
       "    <tr>\n",
       "      <th>tip</th>\n",
       "      <td>0.675734</td>\n",
       "      <td>1.000000</td>\n",
       "      <td>0.489299</td>\n",
       "    </tr>\n",
       "    <tr>\n",
       "      <th>size</th>\n",
       "      <td>0.598315</td>\n",
       "      <td>0.489299</td>\n",
       "      <td>1.000000</td>\n",
       "    </tr>\n",
       "  </tbody>\n",
       "</table>\n",
       "</div>"
      ],
      "text/plain": [
       "            total_bill       tip      size\n",
       "total_bill    1.000000  0.675734  0.598315\n",
       "tip           0.675734  1.000000  0.489299\n",
       "size          0.598315  0.489299  1.000000"
      ]
     },
     "execution_count": 192,
     "metadata": {},
     "output_type": "execute_result"
    }
   ],
   "source": [
    "# YOUR CODE IS HERE\n",
    "tips.corr(numeric_only = True)\n"
   ]
  },
  {
   "cell_type": "markdown",
   "metadata": {
    "id": "CbTcJThZV8PK"
   },
   "source": [
    "### <span style=\"color:#49519E\">17. Visualize mutual relationships of features by `pairplot'.<span>"
   ]
  },
  {
   "cell_type": "code",
   "execution_count": 205,
   "metadata": {
    "id": "vzhEk_9JV8PR"
   },
   "outputs": [
    {
     "data": {
      "image/png": "[encoded data removed]",
      "text/plain": [
       "<Figure size 850.25x750 with 12 Axes>"
      ]
     },
     "metadata": {},
     "output_type": "display_data"
    }
   ],
   "source": [
    "# YOUR CODE IS HERE\n",
    "sns.pairplot(tips, hue = \"sex\")\n",
    "plt.show()\n"
   ]
  },
  {
   "cell_type": "markdown",
   "metadata": {
    "id": "g1fpZx0rV8PR"
   },
   "source": [
    "## <p style=\"background-color:#8CCED1; font-family:newtimeroman; color:#49519E; font-size:150%; text-align:center; border-radius:10px 10px;\">END OF THE ASSIGNMENT-01</p>\n",
    "\n",
    "# Now. it's time to relax!\n",
    "\n",
    "<p style=\"text-align: center;\"> <img src=\"https://i.ibb.co/qRXLyxs/blur-book-close-up-coffee-459265-scaled-e1596132095495.jpg\" width=\"800\" height=\"200\"\n",
    "\n",
    "[Image Credit](https://www.tuscany-villas.nl/in-toscane/2021/eten-en-wijn/accademia-del-caffe-espresso)\n",
    "\n",
    "<p style=\"text-align: center;\"><img src=\"https://i.ibb.co/99DQ3TY/DS-Courses.png\" class=\"img-fluid\"\n",
    "alt=\"CLRSWY_Courses\"></p>"
   ]
  },
  {
   "cell_type": "markdown",
   "metadata": {
    "deletable": false,
    "editable": false,
    "id": "pjcelkFqV8PR"
   },
   "source": [
    "<a href=\"https://ondiande.com/contact/\"><img align=\"center\" src=\"https://i.ibb.co/B43qn24/officially-licensed-logo.png\" alt=\"ONDIA Contact\" width=\"110\" height=\"200\" title=\"This notebook is licensed by ONDIA. Please contact the authorized persons about the conditions under which you can use or share.\"></a>"
   ]
  }
 ],
 "metadata": {
  "colab": {
   "provenance": [
    {
     "file_id": "1F8Ul2u7h9i9IQx5FDqVHJRsk6YPoOPBb",
     "timestamp": 1673022924234
    },
    {
     "file_id": "11XAqQ0T6shqmXGPZRiiUt8MIQEjvcH5T",
     "timestamp": 1642515419901
    }
   ]
  },
  "kernelspec": {
   "display_name": "Python 3 (ipykernel)",
   "language": "python",
   "name": "python3"
  },
  "language_info": {
   "codemirror_mode": {
    "name": "ipython",
    "version": 3
   },
   "file_extension": ".py",
   "mimetype": "text/x-python",
   "name": "python",
   "nbconvert_exporter": "python",
   "pygments_lexer": "ipython3",
   "version": "3.12.7"
  },
  "toc": {
   "base_numbering": "",
   "nav_menu": {},
   "number_sections": false,
   "sideBar": true,
   "skip_h1_title": false,
   "title_cell": "Table of Contents",
   "title_sidebar": "Contents",
   "toc_cell": false,
   "toc_position": {
    "height": "calc(100% - 180px)",
    "left": "10px",
    "top": "150px",
    "width": "307.2px"
   },
   "toc_section_display": true,
   "toc_window_display": true
  },
  "varInspector": {
   "cols": {
    "lenName": 16,
    "lenType": 16,
    "lenVar": 40
   },
   "kernels_config": {
    "python": {
     "delete_cmd_postfix": "",
     "delete_cmd_prefix": "del ",
     "library": "var_list.py",
     "varRefreshCmd": "print(var_dic_list())"
    },
    "r": {
     "delete_cmd_postfix": ") ",
     "delete_cmd_prefix": "rm(",
     "library": "var_list.r",
     "varRefreshCmd": "cat(var_dic_list()) "
    }
   },
   "types_to_exclude": [
    "module",
    "function",
    "builtin_function_or_method",
    "instance",
    "_Feature"
   ],
   "window_display": false
  }
 },
 "nbformat": 4,
 "nbformat_minor": 4
}
